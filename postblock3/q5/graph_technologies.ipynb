{
 "cells": [
  {
   "cell_type": "markdown",
   "metadata": {},
   "source": [
    "# Question 1: EDA"
   ]
  },
  {
   "cell_type": "markdown",
   "metadata": {},
   "source": [
    "### Step 1: Load Data"
   ]
  },
  {
   "cell_type": "code",
   "execution_count": 57,
   "metadata": {},
   "outputs": [],
   "source": [
    "import pandas as pd\n",
    "\n",
    "url = 'https://storage.googleapis.com/bdt-trx/punks.csv'\n",
    "df = pd.read_csv(url)"
   ]
  },
  {
   "cell_type": "markdown",
   "metadata": {},
   "source": [
    "### Step 2: Initial Inspection"
   ]
  },
  {
   "cell_type": "code",
   "execution_count": 58,
   "metadata": {},
   "outputs": [
    {
     "name": "stdout",
     "output_type": "stream",
     "text": [
      "   Unnamed: 0     Type      From        To        Amount           Txn  Punk\n",
      "0           0  Claimed       NaN  0xc352b5           NaN  Jun 23, 2017     0\n",
      "1           1     Bid   0x948a10       NaN  0.67Ξ ($219)  Jun 23, 2017     0\n",
      "2           2     Bid   0x00d7c9       NaN  0.98Ξ ($320)  Jun 23, 2017     0\n",
      "3           3    Sold   0xc352b5  0x00d7c9  0.98Ξ ($320)  Jun 23, 2017     0\n",
      "4           4     Bid   0x717403       NaN   0.05Ξ ($14)  Jun 25, 2017     0\n",
      "Unnamed: 0     int64\n",
      "Type          object\n",
      "From          object\n",
      "To            object\n",
      "Amount        object\n",
      "Txn           object\n",
      "Punk           int64\n",
      "dtype: object\n",
      "Unnamed: 0        0\n",
      "Type              0\n",
      "From           9447\n",
      "To            13891\n",
      "Amount         5380\n",
      "Txn               0\n",
      "Punk              0\n",
      "dtype: int64\n"
     ]
    }
   ],
   "source": [
    "# inspect the data, its types aswel as for missing values\n",
    "\n",
    "print(df.head())\n",
    "print(df.dtypes)\n",
    "print(df.isnull().sum())"
   ]
  },
  {
   "cell_type": "markdown",
   "metadata": {},
   "source": [
    "### Step 3: Data Cleaning"
   ]
  },
  {
   "cell_type": "code",
   "execution_count": 59,
   "metadata": {},
   "outputs": [],
   "source": [
    "df['Txn'] = pd.to_datetime(df['Txn'])\n",
    "df['Amount'] = df['Amount'].str.extract(r'([\\d\\.]+)').astype(float)"
   ]
  },
  {
   "cell_type": "markdown",
   "metadata": {},
   "source": [
    "### Step 4: Inspect the transaction types"
   ]
  },
  {
   "cell_type": "code",
   "execution_count": 60,
   "metadata": {},
   "outputs": [
    {
     "name": "stdout",
     "output_type": "stream",
     "text": [
      "['Claimed' 'Bid ' 'Sold ' 'Transfer' 'Offered' 'Bid Withdrawn'\n",
      " 'Offer Withdrawn' '(Wrap)' '(Unwrap)' 'Bid *']\n",
      "Type\n",
      "Offered            6787\n",
      "Bid                3812\n",
      "Bid Withdrawn      2340\n",
      "Transfer           2286\n",
      "Sold               1679\n",
      "Claimed            1635\n",
      "Offer Withdrawn    1025\n",
      "(Wrap)              234\n",
      "(Unwrap)            200\n",
      "Bid *                 4\n",
      "Name: count, dtype: int64\n"
     ]
    }
   ],
   "source": [
    "# check types and amount of transcations \n",
    "print(df['Type'].unique())\n",
    "print(df['Type'].value_counts())"
   ]
  },
  {
   "cell_type": "markdown",
   "metadata": {},
   "source": [
    "### Step 5: Check current Punk Owners\n"
   ]
  },
  {
   "cell_type": "code",
   "execution_count": 61,
   "metadata": {},
   "outputs": [
    {
     "name": "stdout",
     "output_type": "stream",
     "text": [
      "   Punk     Owner\n",
      "0     0  0xf5099e\n",
      "1   661  0x1f52dc\n",
      "2   662  0xc352b5\n",
      "3   663  0xc352b5\n",
      "4   664  0xc352b5\n"
     ]
    }
   ],
   "source": [
    "# sort dataframe by date\n",
    "df = df.sort_values('Txn')\n",
    "\n",
    "# initialize a dictionary to store current owners\n",
    "punk_owners = {}\n",
    "\n",
    "for index, row in df.iterrows():\n",
    "    punk = row['Punk']\n",
    "    txn_type = row['Type']\n",
    "    from_wallet = row['From']\n",
    "    to_wallet = row['To']\n",
    "    \n",
    "    if txn_type == 'Claimed':\n",
    "        if pd.notnull(to_wallet):\n",
    "            punk_owners[punk] = to_wallet\n",
    "    elif txn_type in ['Sold', 'Transfer']:\n",
    "        if pd.notnull(to_wallet):\n",
    "            punk_owners[punk] = to_wallet\n",
    "\n",
    "# convert dictionary to dataframe\n",
    "punk_owner_df = pd.DataFrame(list(punk_owners.items()), columns=['Punk', 'Owner'])\n",
    "print(punk_owner_df.head())"
   ]
  },
  {
   "cell_type": "markdown",
   "metadata": {},
   "source": [
    "### Step 6: Top five Punk owners"
   ]
  },
  {
   "cell_type": "code",
   "execution_count": 62,
   "metadata": {},
   "outputs": [
    {
     "name": "stdout",
     "output_type": "stream",
     "text": [
      "Owner\n",
      "0xc352b5    406\n",
      "0xb88f61    174\n",
      "0x4d8e16     47\n",
      "0x577ebc     39\n",
      "0x31a5ff     32\n",
      "Name: count, dtype: int64\n"
     ]
    }
   ],
   "source": [
    "ownership_counts = punk_owner_df['Owner'].value_counts()\n",
    "print(ownership_counts.head(5))"
   ]
  },
  {
   "cell_type": "markdown",
   "metadata": {},
   "source": [
    "# Question 2: Data Model\n",
    "\n",
    "Below is the data model diagram for our Neo4j database:\n",
    "\n",
    "![Data Model Diagram](Cryptopunk.png)"
   ]
  },
  {
   "cell_type": "markdown",
   "metadata": {},
   "source": [
    "# Question 3: Load data into Neo4j"
   ]
  },
  {
   "cell_type": "code",
   "execution_count": 63,
   "metadata": {},
   "outputs": [
    {
     "name": "stderr",
     "output_type": "stream",
     "text": [
      "/var/folders/fk/dgwtr5nj7rdbmg73r36_g5800000gn/T/ipykernel_43251/2445318130.py:85: DeprecationWarning: write_transaction has been renamed to execute_write\n",
      "  session.write_transaction(create_nodes_and_relationships, batch)\n"
     ]
    },
    {
     "name": "stdout",
     "output_type": "stream",
     "text": [
      "Processed batch 1 of 21\n"
     ]
    },
    {
     "name": "stderr",
     "output_type": "stream",
     "text": [
      "/var/folders/fk/dgwtr5nj7rdbmg73r36_g5800000gn/T/ipykernel_43251/2445318130.py:85: DeprecationWarning: write_transaction has been renamed to execute_write\n",
      "  session.write_transaction(create_nodes_and_relationships, batch)\n"
     ]
    },
    {
     "name": "stdout",
     "output_type": "stream",
     "text": [
      "Processed batch 2 of 21\n"
     ]
    },
    {
     "name": "stderr",
     "output_type": "stream",
     "text": [
      "/var/folders/fk/dgwtr5nj7rdbmg73r36_g5800000gn/T/ipykernel_43251/2445318130.py:85: DeprecationWarning: write_transaction has been renamed to execute_write\n",
      "  session.write_transaction(create_nodes_and_relationships, batch)\n"
     ]
    },
    {
     "name": "stdout",
     "output_type": "stream",
     "text": [
      "Processed batch 3 of 21\n"
     ]
    },
    {
     "name": "stderr",
     "output_type": "stream",
     "text": [
      "/var/folders/fk/dgwtr5nj7rdbmg73r36_g5800000gn/T/ipykernel_43251/2445318130.py:85: DeprecationWarning: write_transaction has been renamed to execute_write\n",
      "  session.write_transaction(create_nodes_and_relationships, batch)\n"
     ]
    },
    {
     "name": "stdout",
     "output_type": "stream",
     "text": [
      "Processed batch 4 of 21\n"
     ]
    },
    {
     "name": "stderr",
     "output_type": "stream",
     "text": [
      "/var/folders/fk/dgwtr5nj7rdbmg73r36_g5800000gn/T/ipykernel_43251/2445318130.py:85: DeprecationWarning: write_transaction has been renamed to execute_write\n",
      "  session.write_transaction(create_nodes_and_relationships, batch)\n"
     ]
    },
    {
     "name": "stdout",
     "output_type": "stream",
     "text": [
      "Processed batch 5 of 21\n"
     ]
    },
    {
     "name": "stderr",
     "output_type": "stream",
     "text": [
      "/var/folders/fk/dgwtr5nj7rdbmg73r36_g5800000gn/T/ipykernel_43251/2445318130.py:85: DeprecationWarning: write_transaction has been renamed to execute_write\n",
      "  session.write_transaction(create_nodes_and_relationships, batch)\n"
     ]
    },
    {
     "name": "stdout",
     "output_type": "stream",
     "text": [
      "Processed batch 6 of 21\n"
     ]
    },
    {
     "name": "stderr",
     "output_type": "stream",
     "text": [
      "/var/folders/fk/dgwtr5nj7rdbmg73r36_g5800000gn/T/ipykernel_43251/2445318130.py:85: DeprecationWarning: write_transaction has been renamed to execute_write\n",
      "  session.write_transaction(create_nodes_and_relationships, batch)\n"
     ]
    },
    {
     "name": "stdout",
     "output_type": "stream",
     "text": [
      "Processed batch 7 of 21\n"
     ]
    },
    {
     "name": "stderr",
     "output_type": "stream",
     "text": [
      "/var/folders/fk/dgwtr5nj7rdbmg73r36_g5800000gn/T/ipykernel_43251/2445318130.py:85: DeprecationWarning: write_transaction has been renamed to execute_write\n",
      "  session.write_transaction(create_nodes_and_relationships, batch)\n"
     ]
    },
    {
     "name": "stdout",
     "output_type": "stream",
     "text": [
      "Processed batch 8 of 21\n"
     ]
    },
    {
     "name": "stderr",
     "output_type": "stream",
     "text": [
      "/var/folders/fk/dgwtr5nj7rdbmg73r36_g5800000gn/T/ipykernel_43251/2445318130.py:85: DeprecationWarning: write_transaction has been renamed to execute_write\n",
      "  session.write_transaction(create_nodes_and_relationships, batch)\n"
     ]
    },
    {
     "name": "stdout",
     "output_type": "stream",
     "text": [
      "Processed batch 9 of 21\n"
     ]
    },
    {
     "name": "stderr",
     "output_type": "stream",
     "text": [
      "/var/folders/fk/dgwtr5nj7rdbmg73r36_g5800000gn/T/ipykernel_43251/2445318130.py:85: DeprecationWarning: write_transaction has been renamed to execute_write\n",
      "  session.write_transaction(create_nodes_and_relationships, batch)\n"
     ]
    },
    {
     "name": "stdout",
     "output_type": "stream",
     "text": [
      "Processed batch 10 of 21\n"
     ]
    },
    {
     "name": "stderr",
     "output_type": "stream",
     "text": [
      "/var/folders/fk/dgwtr5nj7rdbmg73r36_g5800000gn/T/ipykernel_43251/2445318130.py:85: DeprecationWarning: write_transaction has been renamed to execute_write\n",
      "  session.write_transaction(create_nodes_and_relationships, batch)\n"
     ]
    },
    {
     "name": "stdout",
     "output_type": "stream",
     "text": [
      "Processed batch 11 of 21\n"
     ]
    },
    {
     "name": "stderr",
     "output_type": "stream",
     "text": [
      "/var/folders/fk/dgwtr5nj7rdbmg73r36_g5800000gn/T/ipykernel_43251/2445318130.py:85: DeprecationWarning: write_transaction has been renamed to execute_write\n",
      "  session.write_transaction(create_nodes_and_relationships, batch)\n"
     ]
    },
    {
     "name": "stdout",
     "output_type": "stream",
     "text": [
      "Processed batch 12 of 21\n"
     ]
    },
    {
     "name": "stderr",
     "output_type": "stream",
     "text": [
      "/var/folders/fk/dgwtr5nj7rdbmg73r36_g5800000gn/T/ipykernel_43251/2445318130.py:85: DeprecationWarning: write_transaction has been renamed to execute_write\n",
      "  session.write_transaction(create_nodes_and_relationships, batch)\n"
     ]
    },
    {
     "name": "stdout",
     "output_type": "stream",
     "text": [
      "Processed batch 13 of 21\n"
     ]
    },
    {
     "name": "stderr",
     "output_type": "stream",
     "text": [
      "/var/folders/fk/dgwtr5nj7rdbmg73r36_g5800000gn/T/ipykernel_43251/2445318130.py:85: DeprecationWarning: write_transaction has been renamed to execute_write\n",
      "  session.write_transaction(create_nodes_and_relationships, batch)\n"
     ]
    },
    {
     "name": "stdout",
     "output_type": "stream",
     "text": [
      "Processed batch 14 of 21\n"
     ]
    },
    {
     "name": "stderr",
     "output_type": "stream",
     "text": [
      "/var/folders/fk/dgwtr5nj7rdbmg73r36_g5800000gn/T/ipykernel_43251/2445318130.py:85: DeprecationWarning: write_transaction has been renamed to execute_write\n",
      "  session.write_transaction(create_nodes_and_relationships, batch)\n"
     ]
    },
    {
     "name": "stdout",
     "output_type": "stream",
     "text": [
      "Processed batch 15 of 21\n"
     ]
    },
    {
     "name": "stderr",
     "output_type": "stream",
     "text": [
      "/var/folders/fk/dgwtr5nj7rdbmg73r36_g5800000gn/T/ipykernel_43251/2445318130.py:85: DeprecationWarning: write_transaction has been renamed to execute_write\n",
      "  session.write_transaction(create_nodes_and_relationships, batch)\n"
     ]
    },
    {
     "name": "stdout",
     "output_type": "stream",
     "text": [
      "Processed batch 16 of 21\n"
     ]
    },
    {
     "name": "stderr",
     "output_type": "stream",
     "text": [
      "/var/folders/fk/dgwtr5nj7rdbmg73r36_g5800000gn/T/ipykernel_43251/2445318130.py:85: DeprecationWarning: write_transaction has been renamed to execute_write\n",
      "  session.write_transaction(create_nodes_and_relationships, batch)\n"
     ]
    },
    {
     "name": "stdout",
     "output_type": "stream",
     "text": [
      "Processed batch 17 of 21\n"
     ]
    },
    {
     "name": "stderr",
     "output_type": "stream",
     "text": [
      "/var/folders/fk/dgwtr5nj7rdbmg73r36_g5800000gn/T/ipykernel_43251/2445318130.py:85: DeprecationWarning: write_transaction has been renamed to execute_write\n",
      "  session.write_transaction(create_nodes_and_relationships, batch)\n"
     ]
    },
    {
     "name": "stdout",
     "output_type": "stream",
     "text": [
      "Processed batch 18 of 21\n"
     ]
    },
    {
     "name": "stderr",
     "output_type": "stream",
     "text": [
      "/var/folders/fk/dgwtr5nj7rdbmg73r36_g5800000gn/T/ipykernel_43251/2445318130.py:85: DeprecationWarning: write_transaction has been renamed to execute_write\n",
      "  session.write_transaction(create_nodes_and_relationships, batch)\n"
     ]
    },
    {
     "name": "stdout",
     "output_type": "stream",
     "text": [
      "Processed batch 19 of 21\n"
     ]
    },
    {
     "name": "stderr",
     "output_type": "stream",
     "text": [
      "/var/folders/fk/dgwtr5nj7rdbmg73r36_g5800000gn/T/ipykernel_43251/2445318130.py:85: DeprecationWarning: write_transaction has been renamed to execute_write\n",
      "  session.write_transaction(create_nodes_and_relationships, batch)\n"
     ]
    },
    {
     "name": "stdout",
     "output_type": "stream",
     "text": [
      "Processed batch 20 of 21\n",
      "Processed batch 21 of 21\n"
     ]
    },
    {
     "name": "stderr",
     "output_type": "stream",
     "text": [
      "/var/folders/fk/dgwtr5nj7rdbmg73r36_g5800000gn/T/ipykernel_43251/2445318130.py:85: DeprecationWarning: write_transaction has been renamed to execute_write\n",
      "  session.write_transaction(create_nodes_and_relationships, batch)\n"
     ]
    }
   ],
   "source": [
    "import pandas as pd\n",
    "import numpy as np\n",
    "from neo4j import GraphDatabase\n",
    "\n",
    "# connect to Neo4j\n",
    "uri = \"bolt://localhost:7687\"\n",
    "driver = GraphDatabase.driver(uri, auth=(\"neo4j\", \"your_password\"))\n",
    "\n",
    "# create uniqueness constraints: https://neo4j.com/docs/cypher-manual/current/constraints/\n",
    "with driver.session() as session:\n",
    "    session.run(\"CREATE CONSTRAINT IF NOT EXISTS FOR (w:Wallet) REQUIRE w.address IS UNIQUE\")\n",
    "    session.run(\"CREATE CONSTRAINT IF NOT EXISTS FOR (t:Transaction) REQUIRE t.txn_id IS UNIQUE\")\n",
    "    session.run(\"CREATE CONSTRAINT IF NOT EXISTS FOR (p:Cryptopunk) REQUIRE p.punk_id IS UNIQUE\")\n",
    "\n",
    "# sort by transaction date and rest id index\n",
    "df = df.sort_values('Txn').reset_index(drop=True)\n",
    "df['txn_id'] = df.index.astype(str)\n",
    "\n",
    "# define function for batch processing\n",
    "def create_nodes_and_relationships(tx, records):\n",
    "    for record in records:\n",
    "        txn_id = record['txn_id']\n",
    "        txn_type = record['Type']\n",
    "        amount = record['Amount']\n",
    "        date = record['Txn'].isoformat()\n",
    "        from_wallet = record['From']\n",
    "        to_wallet = record['To']\n",
    "        punk_id = int(record['Punk'])\n",
    "        \n",
    "        # merge Cryptopunk node\n",
    "        tx.run(\"\"\"\n",
    "            MERGE (p:Cryptopunk {punk_id: $punk_id})\n",
    "        \"\"\", punk_id=punk_id)\n",
    "        \n",
    "        # merge Transaction node\n",
    "        tx.run(\"\"\"\n",
    "            MERGE (t:Transaction {txn_id: $txn_id})\n",
    "            SET t.type = $txn_type, t.amount = $amount, t.date = datetime($date)\n",
    "        \"\"\", txn_id=txn_id, txn_type=txn_type, amount=amount, date=date)\n",
    "        \n",
    "        # merge Wallet nodes and create relationships\n",
    "        if pd.notnull(from_wallet):\n",
    "            tx.run(\"\"\"\n",
    "                MERGE (from_w:Wallet {address: $from_wallet})\n",
    "                MERGE (from_w)-[:INITIATED]->(t)\n",
    "            \"\"\", from_wallet=from_wallet, txn_id=txn_id)\n",
    "        \n",
    "        if pd.notnull(to_wallet):\n",
    "            tx.run(\"\"\"\n",
    "                MERGE (to_w:Wallet {address: $to_wallet})\n",
    "                MERGE (t)-[:TO]->(to_w)\n",
    "            \"\"\", to_wallet=to_wallet, txn_id=txn_id)\n",
    "        \n",
    "        # create INVOLVES relationship\n",
    "        tx.run(\"\"\"\n",
    "            MATCH (t:Transaction {txn_id: $txn_id}), (p:Cryptopunk {punk_id: $punk_id})\n",
    "            MERGE (t)-[:INVOLVES]->(p)\n",
    "        \"\"\", txn_id=txn_id, punk_id=punk_id)\n",
    "        \n",
    "        # update CURRENTLY_OWNS relationship\n",
    "        if txn_type in ['Claimed', 'Sold', 'Transfer']:\n",
    "            # delete existing CURRENTLY_OWNS relationships for this Cryptopunk\n",
    "            tx.run(\"\"\"\n",
    "                MATCH (p:Cryptopunk {punk_id: $punk_id})<-[r:CURRENTLY_OWNS]-()\n",
    "                DELETE r\n",
    "            \"\"\", punk_id=punk_id)\n",
    "            \n",
    "            if pd.notnull(to_wallet):\n",
    "                # create new CURRENTLY_OWNS relationship\n",
    "                tx.run(\"\"\"\n",
    "                    MATCH (to_w:Wallet {address: $to_wallet}), (p:Cryptopunk {punk_id: $punk_id})\n",
    "                    MERGE (to_w)-[:CURRENTLY_OWNS]->(p)\n",
    "                \"\"\", to_wallet=to_wallet, punk_id=punk_id)\n",
    "\n",
    "# batch process data\n",
    "batch_size = 1000\n",
    "num_batches = int(np.ceil(len(df) / batch_size))\n",
    "\n",
    "with driver.session() as session:\n",
    "    for i in range(num_batches):\n",
    "        start_idx = i * batch_size\n",
    "        end_idx = min((i + 1) * batch_size, len(df))\n",
    "        batch = df.iloc[start_idx:end_idx].to_dict('records')\n",
    "        \n",
    "        session.write_transaction(create_nodes_and_relationships, batch)\n",
    "        print(f\"Processed batch {i + 1} of {num_batches}\")\n"
   ]
  },
  {
   "cell_type": "markdown",
   "metadata": {},
   "source": [
    "# Question 4: "
   ]
  },
  {
   "cell_type": "code",
   "execution_count": 64,
   "metadata": {},
   "outputs": [
    {
     "name": "stdout",
     "output_type": "stream",
     "text": [
      "Top five wallets holding the largest number of Cryptopunks:\n",
      "Wallet: 0xc352b5, Number of Cryptopunks: 406\n",
      "Wallet: 0xb88f61, Number of Cryptopunks: 174\n",
      "Wallet: 0x4d8e16, Number of Cryptopunks: 47\n",
      "Wallet: 0x577ebc, Number of Cryptopunks: 39\n",
      "Wallet: 0x31a5ff, Number of Cryptopunks: 32\n"
     ]
    }
   ],
   "source": [
    "with driver.session() as session:\n",
    "    result = session.run(\"\"\"\n",
    "        MATCH (w:Wallet)-[:CURRENTLY_OWNS]->(p:Cryptopunk)\n",
    "        RETURN w.address AS wallet, COUNT(p) AS num_punks\n",
    "        ORDER BY num_punks DESC\n",
    "        LIMIT 5\n",
    "    \"\"\")\n",
    "    print(\"Top five wallets holding the largest number of Cryptopunks:\")\n",
    "    for record in result:\n",
    "        print(f\"Wallet: {record['wallet']}, Number of Cryptopunks: {record['num_punks']}\")\n",
    "\n"
   ]
  }
 ],
 "metadata": {
  "kernelspec": {
   "display_name": "venv",
   "language": "python",
   "name": "python3"
  },
  "language_info": {
   "codemirror_mode": {
    "name": "ipython",
    "version": 3
   },
   "file_extension": ".py",
   "mimetype": "text/x-python",
   "name": "python",
   "nbconvert_exporter": "python",
   "pygments_lexer": "ipython3",
   "version": "3.12.2"
  }
 },
 "nbformat": 4,
 "nbformat_minor": 2
}
