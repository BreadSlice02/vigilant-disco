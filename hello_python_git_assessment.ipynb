{
  "cells": [
    {
      "cell_type": "markdown",
      "metadata": {
        "id": "BL4kme_AbrdV"
      },
      "source": [
        "# Tutorial: Hello Bash and Python\n",
        "\n",
        "In this tutorial we will familiarise ourselves with bash and python, and Notebooks (inadvertantly). Please load this notebook in `colab.research.google.com` if you do not have a local instance of JupyterHub/JupyterLab running.\n",
        "\n",
        "\n",
        "Submission:\n",
        "\n",
        "The submission for this tutorial requires a submission on Git, as well as one on SUNLearn. You will receive an email to your student account asking you to create an account on Gitlab\n",
        "\n",
        "\n"
      ]
    },
    {
      "cell_type": "code",
      "execution_count": 1,
      "metadata": {
        "id": "8iLpNn08brdZ"
      },
      "outputs": [],
      "source": [
        "import pandas as pd"
      ]
    },
    {
      "cell_type": "markdown",
      "metadata": {
        "id": "IruW7tWVbrda"
      },
      "source": [
        "## Question 1: Bash\n",
        "\n",
        "Retrieve data and interogate it with bash before using python tooling. This is useful as you may struggle with type or malformed files and a quick interogation may reveal those issues.\n"
      ]
    },
    {
      "cell_type": "markdown",
      "metadata": {
        "id": "7DF-cNZ9brda"
      },
      "source": [
        "### Question 1.1\n",
        "\n",
        "Run the bash command `wget` to retrieve a file located at `https://storage.googleapis.com/bdt-beam/users_v.csv` [1]"
      ]
    },
    {
      "cell_type": "code",
      "execution_count": 2,
      "metadata": {
        "colab": {
          "base_uri": "https://localhost:8080/"
        },
        "id": "pS-w1Esgbrda",
        "outputId": "633ab9fb-32d7-4a7d-db0c-f8f591ef7649"
      },
      "outputs": [
        {
          "output_type": "stream",
          "name": "stdout",
          "text": [
            "--2024-09-10 10:16:32--  https://storage.googleapis.com/bdt-beam/users_v.csv\n",
            "Resolving storage.googleapis.com (storage.googleapis.com)... 142.251.2.207, 142.250.141.207, 74.125.137.207, ...\n",
            "Connecting to storage.googleapis.com (storage.googleapis.com)|142.251.2.207|:443... connected.\n",
            "HTTP request sent, awaiting response... 200 OK\n",
            "Length: 143675 (140K) [text/csv]\n",
            "Saving to: ‘users_v.csv’\n",
            "\n",
            "users_v.csv         100%[===================>] 140.31K   366KB/s    in 0.4s    \n",
            "\n",
            "2024-09-10 10:16:34 (366 KB/s) - ‘users_v.csv’ saved [143675/143675]\n",
            "\n"
          ]
        }
      ],
      "source": [
        "!wget https://storage.googleapis.com/bdt-beam/users_v.csv"
      ]
    },
    {
      "cell_type": "markdown",
      "metadata": {
        "id": "SWyxSFr8brdb"
      },
      "source": [
        "### Question 1.2\n",
        "\n",
        "Use a bash command to view the top ten elements of the file (to confirm that things are as you expect) [1]"
      ]
    },
    {
      "cell_type": "code",
      "execution_count": 4,
      "metadata": {
        "colab": {
          "base_uri": "https://localhost:8080/"
        },
        "id": "9EcNbPLgbrdb",
        "outputId": "88ac3bcc-4100-465b-cc90-12bf6bc2dee1"
      },
      "outputs": [
        {
          "output_type": "stream",
          "name": "stdout",
          "text": [
            "user_id,name,gender,age,address,date_joined\n",
            "1,Anthony Wolf,male,73,New Rachelburgh-VA-49583,2019/03/13\n",
            "2,James Armstrong,male,56,North Jillianfort-UT-86454,2020/11/06\n",
            "3,Cody Shaw,male,75,North Anne-SC-53799,2004/05/29\n",
            "4,Sierra Hamilton,female,76,New Angelafurt-ME-46190,2005/08/26\n",
            "5,Chase Davis,male,31,South Bethmouth-WI-18562,2018/04/30\n",
            "6,Sierra Andrews,female,21,Ryanville-MI-69690,2007/05/25\n",
            "7,Ann Stone,female,41,Smithmouth-SD-17340,2005/01/05\n",
            "8,Karen Santos,female,34,Mariaville-AK-29888,2003/12/12\n",
            "9,Ronald Meyer,male,41,North Cherylhaven-NJ-04197,2015/11/14\n"
          ]
        }
      ],
      "source": [
        "!head -n 10 users_v.csv\n"
      ]
    },
    {
      "cell_type": "markdown",
      "metadata": {
        "id": "lJpEoDJZbrdc"
      },
      "source": [
        "### Question 1.3\n",
        "\n",
        "Use a bash command to determine the number of rows in the file [1]"
      ]
    },
    {
      "cell_type": "code",
      "execution_count": 6,
      "metadata": {
        "colab": {
          "base_uri": "https://localhost:8080/"
        },
        "id": "pWs5MD-Abrdc",
        "outputId": "5d630462-a9d6-46ed-a514-5acf738b0097"
      },
      "outputs": [
        {
          "output_type": "stream",
          "name": "stdout",
          "text": [
            "2358 users_v.csv\n"
          ]
        }
      ],
      "source": [
        "!wc -l users_v.csv\n"
      ]
    },
    {
      "cell_type": "markdown",
      "metadata": {
        "id": "wFhI7cdYbrdc"
      },
      "source": [
        "### Question 1.4\n",
        "\n",
        "Suppose the file is too large for initial exploration, let's take a quick sample so that we can continue working to see what is in the data set. Loading it into Pandas at this point will mean that we are using all that memory in any case, so let's sample it before we load it.\n",
        "\n",
        "Take a random sample of the file (limited the result to 1000 lines) and create another file called `users_sample.csv`, using only bash commands [3]\n",
        "\n",
        "Hint: redirect a stream into a the output file."
      ]
    },
    {
      "cell_type": "code",
      "execution_count": 7,
      "metadata": {
        "id": "7di4D1JNbrdc"
      },
      "outputs": [],
      "source": [
        "!shuf -n 1000 users_v.csv > users_sample.csv\n"
      ]
    },
    {
      "cell_type": "markdown",
      "metadata": {
        "id": "tAbOuiCsbrdd"
      },
      "source": [
        "### Question 1.5\n",
        "\n",
        "* Sort your file by ascending `user_id`s [1]\n",
        "* Overwrite the current `users_sample.csv` with the ordered content [1]\n",
        "* Print the last ten lines of this file [1]"
      ]
    },
    {
      "cell_type": "code",
      "execution_count": 8,
      "metadata": {
        "colab": {
          "base_uri": "https://localhost:8080/"
        },
        "id": "_0FNffTpbrdd",
        "outputId": "8f4ee167-c376-460b-b1af-f768ee281793"
      },
      "outputs": [
        {
          "output_type": "stream",
          "name": "stdout",
          "text": [
            "976,Douglas Hart,male,55,Jenkinshaven-AK-72602,2001/04/01\n",
            "977,Andrew Bradley DDS,male,46,Johnmouth-WV-89003,2013/03/27\n",
            "978,Ralph Ball,male,71,Julianshire-WV-10729,2019/09/05\n",
            "979,Edward Jones,male,80,West Annfurt-MA-25816,2002/08/20\n",
            "98,Michael Ross,male,76,New Melissa-IL-76698,2003/10/09\n",
            "980,Kelly Crawford,female,31,South John-AZ-18555,2001/01/25\n",
            "984,Jennifer Potter,female,61,Lake Nicole-AK-77074,2015/09/16\n",
            "993,Elizabeth Perez,female,50,North Rebecca-MD-97897,2007/10/18\n",
            "998,Ms. Candice Sims DVM,female,24,Marychester-CT-22544,2005/02/18\n",
            "999,Kenneth Bryant,male,27,South Meganmouth-IL-80593,2000/04/10\n"
          ]
        }
      ],
      "source": [
        "!sort -t, -k1,1 users_sample.csv -o users_sample.csv\n",
        "!tail users_sample.csv\n"
      ]
    },
    {
      "cell_type": "markdown",
      "metadata": {
        "id": "hThMbC16brdd"
      },
      "source": [
        "## Question 2: Python\n",
        "\n",
        "Perform analysis with Python"
      ]
    },
    {
      "cell_type": "markdown",
      "metadata": {
        "id": "O6HsiX3Nbrdd"
      },
      "source": [
        "### Question 2.1\n",
        "\n",
        "Load the original `users_v.csv` into a Pandas dataframe [1]"
      ]
    },
    {
      "cell_type": "code",
      "execution_count": 9,
      "metadata": {
        "id": "bqGAeJ5Zbrdd"
      },
      "outputs": [],
      "source": [
        "df = pd.read_csv('users_v.csv')\n"
      ]
    },
    {
      "cell_type": "markdown",
      "metadata": {
        "id": "pAJpRmVjbrdd"
      },
      "source": [
        "### Question 2.2\n",
        "\n",
        "Display/print the top ten lines of the dataframe [1]\n",
        "\n"
      ]
    },
    {
      "cell_type": "code",
      "execution_count": 10,
      "metadata": {
        "colab": {
          "base_uri": "https://localhost:8080/"
        },
        "id": "PXDtzvz1brdd",
        "outputId": "0376ba59-49a7-4d93-d4d7-40082f2d97ae"
      },
      "outputs": [
        {
          "output_type": "stream",
          "name": "stdout",
          "text": [
            "   user_id             name  gender  age                     address  \\\n",
            "0        1     Anthony Wolf    male   73    New Rachelburgh-VA-49583   \n",
            "1        2  James Armstrong    male   56  North Jillianfort-UT-86454   \n",
            "2        3        Cody Shaw    male   75         North Anne-SC-53799   \n",
            "3        4  Sierra Hamilton  female   76     New Angelafurt-ME-46190   \n",
            "4        5      Chase Davis    male   31    South Bethmouth-WI-18562   \n",
            "5        6   Sierra Andrews  female   21          Ryanville-MI-69690   \n",
            "6        7        Ann Stone  female   41         Smithmouth-SD-17340   \n",
            "7        8     Karen Santos  female   34         Mariaville-AK-29888   \n",
            "8        9     Ronald Meyer    male   41  North Cherylhaven-NJ-04197   \n",
            "9       10    Steven Rivera    male   43          Wayneside-VT-29040   \n",
            "\n",
            "  date_joined  \n",
            "0  2019/03/13  \n",
            "1  2020/11/06  \n",
            "2  2004/05/29  \n",
            "3  2005/08/26  \n",
            "4  2018/04/30  \n",
            "5  2007/05/25  \n",
            "6  2005/01/05  \n",
            "7  2003/12/12  \n",
            "8  2015/11/14  \n",
            "9  2003/05/15  \n"
          ]
        }
      ],
      "source": [
        "print(df.head(10))\n"
      ]
    },
    {
      "cell_type": "markdown",
      "metadata": {
        "id": "ey6G-DJjbrdd"
      },
      "source": [
        "### Question 2.3\n",
        "\n",
        "Find the age of the oldest and youngest person in the dataset [1]\n",
        "\n",
        "Hint: you can use the `print(..., ...)` function to display the two values if you construct it as two arguments"
      ]
    },
    {
      "cell_type": "code",
      "execution_count": 11,
      "metadata": {
        "colab": {
          "base_uri": "https://localhost:8080/"
        },
        "id": "g3YDDlpCbrdd",
        "outputId": "c7f68ffb-2023-4b68-e288-7380d29ebd84"
      },
      "outputs": [
        {
          "output_type": "stream",
          "name": "stdout",
          "text": [
            "Oldest: 80, Youngest: 18\n"
          ]
        }
      ],
      "source": [
        "oldest = df['age'].max()\n",
        "youngest = df['age'].min()\n",
        "print(f\"Oldest: {oldest}, Youngest: {youngest}\")\n"
      ]
    },
    {
      "cell_type": "markdown",
      "metadata": {
        "id": "JtNNNy3kbrdd"
      },
      "source": [
        "### Question 2.4\n",
        "\n",
        "Draw descriptive statistics (one-liner) for the `age` column - these statistics should include `count`, `mean`, and `std` [1]\n",
        "\n",
        "Hint: this command has a parallel in R"
      ]
    },
    {
      "cell_type": "code",
      "execution_count": 12,
      "metadata": {
        "colab": {
          "base_uri": "https://localhost:8080/"
        },
        "id": "ybS4_IcObrde",
        "outputId": "3b1a3280-20b2-493b-d7c8-3948742a5cde"
      },
      "outputs": [
        {
          "output_type": "stream",
          "name": "stdout",
          "text": [
            "count    2357.000000\n",
            "mean       49.054731\n",
            "std        18.206348\n",
            "min        18.000000\n",
            "25%        33.000000\n",
            "50%        49.000000\n",
            "75%        65.000000\n",
            "max        80.000000\n",
            "Name: age, dtype: float64\n"
          ]
        }
      ],
      "source": [
        "print(df['age'].describe())\n"
      ]
    },
    {
      "cell_type": "markdown",
      "metadata": {
        "id": "PRJB9NRWbrde"
      },
      "source": [
        "### Question 2.5\n",
        "\n",
        "* Using anonymous functions (`lambda`), create a `surname` column from the name column (you may assume that the last word without a space is the surname) [2]\n",
        "* Display the last 10 lines of your dataframe [1]\n"
      ]
    },
    {
      "cell_type": "code",
      "execution_count": 13,
      "metadata": {
        "colab": {
          "base_uri": "https://localhost:8080/"
        },
        "id": "HgbclWAPbrde",
        "outputId": "8e4685a9-e512-428e-bd25-6226605d3ebc"
      },
      "outputs": [
        {
          "output_type": "stream",
          "name": "stdout",
          "text": [
            "      user_id                 name  gender  age                    address  \\\n",
            "2347     2348     Victoria Edwards  female   68    Lake Jamesberg-NY-88824   \n",
            "2348     2349          Chris Ellis    male   46  Port Richardside-NY-77994   \n",
            "2349     2350       Kimberly Smith  female   19      East Anthony-GA-00646   \n",
            "2350     2351       William Nelson    male   67   Lake Parkerside-MN-06905   \n",
            "2351     2352          Nancy Clark  female   80        Jamesshire-AK-88437   \n",
            "2352     2353      Brittney Graham  female   40         Brownland-CO-71229   \n",
            "2353     2354      Allison Schmidt  female   43        Port Logan-MD-38588   \n",
            "2354     2355  Christopher Johnson    male   68   North Justinton-VA-32798   \n",
            "2355     2356           Mark Brown    male   67    New Kayleefurt-MA-82581   \n",
            "2356     2357      Steven Robinson    male   45         Mistytown-HI-31737   \n",
            "\n",
            "     date_joined   surname  \n",
            "2347  2001/09/03   Edwards  \n",
            "2348  2011/03/18     Ellis  \n",
            "2349  2021/06/20     Smith  \n",
            "2350  2005/12/21    Nelson  \n",
            "2351  2001/12/12     Clark  \n",
            "2352  2005/07/10    Graham  \n",
            "2353  2008/11/30   Schmidt  \n",
            "2354  2006/08/01   Johnson  \n",
            "2355  2013/11/16     Brown  \n",
            "2356  2015/03/21  Robinson  \n"
          ]
        }
      ],
      "source": [
        "df['surname'] = df['name'].apply(lambda x: x.split()[-1])\n",
        "print(df.tail(10))\n"
      ]
    },
    {
      "cell_type": "markdown",
      "metadata": {
        "id": "iYCG1CNsbrde"
      },
      "source": [
        "### Question 2.6\n",
        "\n",
        "* Convert `date_joined` to a pandas series of type `datetime`  [1]\n",
        "* Overwrite the original `date_joined` column with the result [1]"
      ]
    },
    {
      "cell_type": "code",
      "execution_count": 14,
      "metadata": {
        "id": "yBB8jYkhbrde"
      },
      "outputs": [],
      "source": [
        "df['date_joined'] = pd.to_datetime(df['date_joined'])"
      ]
    },
    {
      "cell_type": "code",
      "execution_count": 15,
      "metadata": {
        "colab": {
          "base_uri": "https://localhost:8080/"
        },
        "id": "C-Il0QAKbrde",
        "outputId": "593216d5-f5d5-4e96-ba57-aea6fc2afb34"
      },
      "outputs": [
        {
          "output_type": "stream",
          "name": "stdout",
          "text": [
            "0   2019-03-13\n",
            "1   2020-11-06\n",
            "2   2004-05-29\n",
            "3   2005-08-26\n",
            "4   2018-04-30\n",
            "Name: date_joined, dtype: datetime64[ns]\n"
          ]
        }
      ],
      "source": [
        "print(df['date_joined'].head())"
      ]
    },
    {
      "cell_type": "markdown",
      "metadata": {
        "id": "zl4ctwLwbrde"
      },
      "source": [
        "## Question 3: Git\n",
        "\n",
        "Push your notebook to Git. If you don't have any Git tooling installed on your machines, download a preferred tool.\n",
        "\n",
        " * Create a repository (named `day1-tutorial`) on Gitlab (check your student email for sign-up/membership request to Gitlab) [1]\n",
        " * Push this notebook to that repository [1]"
      ]
    },
    {
      "cell_type": "code",
      "execution_count": null,
      "metadata": {
        "id": "yAuGQaHzbrde"
      },
      "outputs": [],
      "source": []
    },
    {
      "cell_type": "markdown",
      "metadata": {
        "id": "Li3ktV0Rbrde"
      },
      "source": [
        "## The End\n",
        "\n",
        "Now that it is a datetime, we can how many users signed up/registered."
      ]
    },
    {
      "cell_type": "code",
      "execution_count": 16,
      "metadata": {
        "colab": {
          "base_uri": "https://localhost:8080/",
          "height": 489
        },
        "id": "4geNIxPHbrde",
        "outputId": "29c99cb7-a06a-4f29-c8d8-0f22df4eb785"
      },
      "outputs": [
        {
          "output_type": "execute_result",
          "data": {
            "text/plain": [
              "<Axes: xlabel='date_joined'>"
            ]
          },
          "metadata": {},
          "execution_count": 16
        },
        {
          "output_type": "display_data",
          "data": {
            "text/plain": [
              "<Figure size 640x480 with 1 Axes>"
            ],
            "image/png": "[encoded data removed]"
          },
          "metadata": {}
        }
      ],
      "source": [
        "import matplotlib\n",
        "\n",
        "%matplotlib inline\n",
        "\n",
        "df.user_id.groupby([df.date_joined.dt.year]).count().plot(kind=\"bar\")"
      ]
    },
    {
      "cell_type": "code",
      "execution_count": null,
      "metadata": {
        "id": "-jgh1-HYbrde"
      },
      "outputs": [],
      "source": []
    }
  ],
  "metadata": {
    "kernelspec": {
      "display_name": "Python 3 (ipykernel)",
      "language": "python",
      "name": "python3"
    },
    "language_info": {
      "codemirror_mode": {
        "name": "ipython",
        "version": 3
      },
      "file_extension": ".py",
      "mimetype": "text/x-python",
      "name": "python",
      "nbconvert_exporter": "python",
      "pygments_lexer": "ipython3",
      "version": "3.11.2"
    },
    "colab": {
      "provenance": []
    }
  },
  "nbformat": 4,
  "nbformat_minor": 0
}