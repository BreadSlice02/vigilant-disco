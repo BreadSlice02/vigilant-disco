{
  "nbformat": 4,
  "nbformat_minor": 0,
  "metadata": {
    "colab": {
      "provenance": []
    },
    "kernelspec": {
      "name": "python3",
      "display_name": "Python 3"
    },
    "language_info": {
      "name": "python"
    }
  },
  "cells": [
    {
      "cell_type": "code",
      "execution_count": null,
      "metadata": {
        "id": "J7jY7bbKXyOf"
      },
      "outputs": [],
      "source": [
        "!pip install apache-beam"
      ]
    },
    {
      "cell_type": "markdown",
      "source": [
        "# Apache Beam Data Processing Tutorial\n",
        "This notebook contains tasks for formatting and transforming customer data using Apache Beam.\n"
      ],
      "metadata": {
        "id": "czUg4B4QX3X7"
      }
    },
    {
      "cell_type": "code",
      "source": [
        "# Step 1: Import necessary libraries\n",
        "import apache_beam as beam\n",
        "import csv\n",
        "from datetime import datetime"
      ],
      "metadata": {
        "id": "QB-VtaDLX5Y2"
      },
      "execution_count": null,
      "outputs": []
    },
    {
      "cell_type": "markdown",
      "source": [
        "## Task 1: Data Formatting\n",
        "The goal is to read the `users_v.csv` file, transform the data, and output it in a specific format.\n"
      ],
      "metadata": {
        "id": "acLStogCX_jX"
      }
    },
    {
      "cell_type": "code",
      "source": [
        "class FormatRow(beam.DoFn):\n",
        "    def process(self, element):\n",
        "        user_id, name, gender, age, address, date_joined = element\n",
        "        # Format the date to YYYY-MM-DD\n",
        "        date_joined = datetime.strptime(date_joined, '%m/%d/%Y').strftime('%Y-%m-%d')\n",
        "        # Format address\n",
        "        address_parts = address.split(', ')\n",
        "        formatted_address = f'{address_parts[0]},{address_parts[1]},{address_parts[2]}'\n",
        "        yield f\"{user_id};{name};{gender};{age};{formatted_address};{date_joined}\"\n",
        "\n",
        "def run_pipeline():\n",
        "    with beam.Pipeline() as pipeline:\n",
        "        (pipeline\n",
        "         | 'Read CSV' >> beam.io.ReadFromText('users_v.csv')\n",
        "         | 'Parse CSV' >> beam.Map(lambda line: next(csv.reader([line])))\n",
        "         | 'Format Data' >> beam.ParDo(FormatRow())\n",
        "         | 'Write to CSV' >> beam.io.WriteToText('marketing_format', file_name_suffix='.csv'))\n",
        "\n",
        "run_pipeline()"
      ],
      "metadata": {
        "id": "o969ad1uYASf"
      },
      "execution_count": null,
      "outputs": []
    },
    {
      "cell_type": "markdown",
      "source": [
        "## Task 2: Aggregations\n",
        "We will now compute gender composition, daily account creations, and customer distribution by state.\n"
      ],
      "metadata": {
        "id": "8aT_8Wv0YHOg"
      }
    },
    {
      "cell_type": "code",
      "source": [
        "class CountGender(beam.DoFn):\n",
        "    def process(self, element):\n",
        "        _, _, gender, _, _, _ = element\n",
        "        yield gender\n",
        "\n",
        "def gender_composition(pipeline):\n",
        "    (pipeline\n",
        "     | 'Read File' >> beam.io.ReadFromText('marketing_format.csv', skip_header_lines=1)\n",
        "     | 'Parse CSV' >> beam.Map(lambda line: next(csv.reader([line], delimiter=';')))\n",
        "     | 'Get Gender' >> beam.ParDo(CountGender())\n",
        "     | 'Count Per Gender' >> beam.combiners.Count.PerElement()\n",
        "     | 'Write Gender Count' >> beam.io.WriteToText('gender_count', file_name_suffix='.csv'))\n",
        "\n",
        "gender_composition(beam.Pipeline())"
      ],
      "metadata": {
        "id": "1nd7g_FbYH6S"
      },
      "execution_count": null,
      "outputs": []
    },
    {
      "cell_type": "code",
      "source": [
        "class CountDateJoined(beam.DoFn):\n",
        "    def process(self, element):\n",
        "        _, _, _, _, _, date_joined = element\n",
        "        yield date_joined\n",
        "\n",
        "def customers_per_day(pipeline):\n",
        "    (pipeline\n",
        "     | 'Read File' >> beam.io.ReadFromText('marketing_format.csv', skip_header_lines=1)\n",
        "     | 'Parse CSV' >> beam.Map(lambda line: next(csv.reader([line], delimiter=';')))\n",
        "     | 'Get Date Joined' >> beam.ParDo(CountDateJoined())\n",
        "     | 'Count Per Date' >> beam.combiners.Count.PerElement()\n",
        "     | 'Write Date Count' >> beam.io.WriteToText('date_joined_count', file_name_suffix='.csv'))\n",
        "\n",
        "customers_per_day(beam.Pipeline())"
      ],
      "metadata": {
        "id": "anbPHS04YSG5"
      },
      "execution_count": null,
      "outputs": []
    },
    {
      "cell_type": "code",
      "source": [
        "class CountState(beam.DoFn):\n",
        "    def process(self, element):\n",
        "        _, _, _, _, address, _ = element\n",
        "        state = address.split(',')[1]\n",
        "        yield state\n",
        "\n",
        "def customers_per_state(pipeline):\n",
        "    (pipeline\n",
        "     | 'Read File' >> beam.io.ReadFromText('marketing_format.csv', skip_header_lines=1)\n",
        "     | 'Parse CSV' >> beam.Map(lambda line: next(csv.reader([line], delimiter=';')))\n",
        "     | 'Get State' >> beam.ParDo(CountState())\n",
        "     | 'Count Per State' >> beam.combiners.Count.PerElement()\n",
        "     | 'Write State Count' >> beam.io.WriteToText('state_count', file_name_suffix='.csv'))\n",
        "\n",
        "customers_per_state(beam.Pipeline())"
      ],
      "metadata": {
        "id": "b1VHeozBYTuh"
      },
      "execution_count": null,
      "outputs": []
    }
  ]
}