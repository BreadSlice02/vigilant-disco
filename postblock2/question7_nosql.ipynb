{
 "cells": [
  {
   "cell_type": "markdown",
   "metadata": {},
   "source": [
    "First code block inserts events into MongoDB database\n",
    "assumptions: (1) api_url https://api.opensea.io/api/v2/events/collection/cryptopunks_events\n",
    "(2) Event types are not specified so \"sale:\" is taken since its asked for that in a later question\n"
   ]
  },
  {
   "cell_type": "code",
   "execution_count": null,
   "metadata": {},
   "outputs": [],
   "source": [
    "import requests\n",
    "from pymongo import MongoClient\n",
    "import time\n",
    "from datetime import datetime\n",
    "#Question 6.1\n",
    "\n",
    "# Function required to convert ISO date format to Unix timestamp\n",
    "def iso_to_unix(iso_date):\n",
    "    return int(datetime.fromisoformat(iso_date).timestamp())\n",
    "\n",
    "# Here we have to first connect to MongoDB (After setting it up in the terminal -\n",
    "# using docker pull mongo and docker run --name mongodb -d -p 27017:27017 mongo)\n",
    "client = MongoClient('localhost', 27017)\n",
    "db = client['opensea_db']\n",
    "collection = db['cryptopunks_events']\n",
    "collection.delete_many({})\n",
    "\n",
    "# API endpoint \n",
    "collection_slug = 'cryptopunks'  # The slug for CryptoPunks\n",
    "api_url = f'https://api.opensea.io/api/v2/events/collection/{collection_slug}'\n",
    "\n",
    "# Date range considering the +- 2hour requirement \n",
    "occurred_after = '2021-08-31T22:00:00'  \n",
    "occurred_before = '2021-09-30T22:00:00'  \n",
    "after_timestamp = iso_to_unix(occurred_after)\n",
    "before_timestamp = iso_to_unix(occurred_before)\n",
    "\n",
    "params = {\n",
    "    'after': after_timestamp,  \n",
    "    'before': before_timestamp,  \n",
    "    'event_type': 'sale', \n",
    "    'limit': '50',  # Max limit per request\n",
    "}\n",
    "\n",
    "headers = {\n",
    "    'Accept': 'application/json',\n",
    "    'X-API-KEY': 'fd22235ed7874ca4971d8b11fbcd7ff7', \n",
    "}\n",
    "\n",
    "print(\"Starting data collection...\")\n",
    "\n",
    "while True:\n",
    "    response = requests.get(api_url, params=params, headers=headers)\n",
    "    if response.status_code == 200:\n",
    "        data = response.json()\n",
    "        events = data.get('asset_events', [])\n",
    "        if not events:\n",
    "            print(\"No more events found.\")\n",
    "            break\n",
    "        \n",
    "        # Transform and insert events into MongoDB\n",
    "        for event in events:\n",
    "            # Convert total_price from wei to ether \n",
    "            total_price_wei = event.get('total_price')\n",
    "            if total_price_wei:\n",
    "                total_price_eth = float(total_price_wei) / 1e18\n",
    "                event['total_price_eth'] = total_price_eth\n",
    "            else:\n",
    "                event['total_price_eth'] = None\n",
    "            \n",
    "            # Insert into MongoDB\n",
    "            collection.insert_one(event)\n",
    "        \n",
    "        # Handle pagination\n",
    "        next_page = data.get('next')\n",
    "        if next_page:\n",
    "            params['cursor'] = next_page\n",
    "            time.sleep(1)  \n",
    "        else:\n",
    "            break\n",
    "    elif response.status_code == 429:\n",
    "        print(\"Rate limit exceeded.\")\n",
    "        time.sleep(10)\n",
    "    else:\n",
    "        print(f\"Error: {response.status_code}\")\n",
    "        print(response.text)\n",
    "        break"
   ]
  },
  {
   "cell_type": "code",
   "execution_count": 21,
   "metadata": {},
   "outputs": [
    {
     "name": "stdout",
     "output_type": "stream",
     "text": [
      "Total number of event transactions in the MongoDB collection: 30400\n"
     ]
    }
   ],
   "source": [
    "# Total number of event transactions \n",
    "event_count = collection.count_documents({})\n",
    "\n",
    "print(f\"Total number of event transactions in the MongoDB collection: {event_count}\")\n"
   ]
  },
  {
   "cell_type": "code",
   "execution_count": 22,
   "metadata": {},
   "outputs": [
    {
     "name": "stdout",
     "output_type": "stream",
     "text": [
      "Ten Most Expensive Punks:\n",
      "Token ID: 6987, Selling Price (ETH): 290.0000\n",
      "Token ID: 6645, Selling Price (ETH): 268.0000\n",
      "Token ID: 7946, Selling Price (ETH): 230.0000\n",
      "Token ID: 9223, Selling Price (ETH): 199.0000\n",
      "Token ID: 7163, Selling Price (ETH): 195.0000\n",
      "Token ID: 8393, Selling Price (ETH): 169.0000\n",
      "Token ID: 9865, Selling Price (ETH): 144.4000\n",
      "Token ID: 2408, Selling Price (ETH): 140.0000\n",
      "Token ID: 5182, Selling Price (ETH): 140.0000\n",
      "Token ID: 3054, Selling Price (ETH): 136.9500\n"
     ]
    }
   ],
   "source": [
    "# Aggregation to find the unique token identifiers and their maximum selling prices\n",
    "most_expensive_punks = collection.aggregate([\n",
    "    {\n",
    "        \"$match\": {\"payment.quantity\": {\"$ne\": None}}  # Ensure payment.quantity exists\n",
    "    },\n",
    "    {\n",
    "        \"$group\": {\n",
    "            \"_id\": \"$nft.identifier\",  # Group by token ID\n",
    "            \"max_price\": {\"$max\": \"$payment.quantity\"}  # Get the maximum price for each token ID\n",
    "        }\n",
    "    },\n",
    "    {\n",
    "        \"$sort\": {\"max_price\": -1}  \n",
    "    },\n",
    "    {\n",
    "        \"$limit\": 10  \n",
    "    }\n",
    "])\n",
    "\n",
    "print(\"Ten Most Expensive Punks:\")\n",
    "for punk in most_expensive_punks:\n",
    "    payment_quantity_wei = punk['max_price']\n",
    "    payment_quantity_eth = float(payment_quantity_wei) / 1e18 \n",
    "    print(f\"Token ID: {punk['_id']}, Selling Price (ETH): {payment_quantity_eth:.4f}\")\n"
   ]
  },
  {
   "cell_type": "code",
   "execution_count": 27,
   "metadata": {},
   "outputs": [
    {
     "name": "stdout",
     "output_type": "stream",
     "text": [
      "Number of unique CryptoPunks sold: 49\n"
     ]
    }
   ],
   "source": [
    "# Number of unique cryptopunks or id's\n",
    "unique_punks_count = collection.distinct('nft.identifier')\n",
    "\n",
    "print(f\"Number of unique CryptoPunks sold: {len(unique_punks_count)}\")"
   ]
  },
  {
   "cell_type": "code",
   "execution_count": 24,
   "metadata": {},
   "outputs": [
    {
     "name": "stdout",
     "output_type": "stream",
     "text": [
      "Date with the least CryptoPunks sold: 2021-09-29, Number of sales: 10336\n"
     ]
    }
   ],
   "source": [
    "sales_per_day = collection.aggregate([\n",
    "    {\n",
    "        \"$match\": {\"event_type\": \"sale\"} \n",
    "    },\n",
    "    {\n",
    "        \"$group\": {\n",
    "            \"_id\": {\n",
    "                \"$dateToString\": {\"format\": \"%Y-%m-%d\", \"date\": {\n",
    "                    \"$toDate\": {\n",
    "                        \"$multiply\": [\"$event_timestamp\", 1000]\n",
    "                    }\n",
    "                }}  \n",
    "            },\n",
    "            \"count\": {\"$sum\": 1}  # Count the number of sales for each day\n",
    "        }\n",
    "    },\n",
    "    {\n",
    "        \"$sort\": {\"count\": 1}  \n",
    "    },\n",
    "    {\n",
    "        \"$limit\": 1  # Limit to the top 1 record\n",
    "    }\n",
    "])\n",
    "\n",
    "for result in sales_per_day:\n",
    "    print(f\"Date with the least CryptoPunks sold: {result['_id']}, Number of sales: {result['count']}\")\n"
   ]
  }
 ],
 "metadata": {
  "kernelspec": {
   "display_name": "venv",
   "language": "python",
   "name": "python3"
  },
  "language_info": {
   "codemirror_mode": {
    "name": "ipython",
    "version": 3
   },
   "file_extension": ".py",
   "mimetype": "text/x-python",
   "name": "python",
   "nbconvert_exporter": "python",
   "pygments_lexer": "ipython3",
   "version": "3.12.2"
  }
 },
 "nbformat": 4,
 "nbformat_minor": 2
}
